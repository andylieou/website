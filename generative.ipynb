{
 "cells": [
  {
   "cell_type": "code",
   "execution_count": null,
   "id": "e96bb84f",
   "metadata": {},
   "outputs": [
    {
     "name": "stderr",
     "output_type": "stream",
     "text": [
      "/Users/andylieou/anaconda3/envs/cs342/lib/python3.9/site-packages/tqdm/auto.py:21: TqdmWarning: IProgress not found. Please update jupyter and ipywidgets. See https://ipywidgets.readthedocs.io/en/stable/user_install.html\n",
      "  from .autonotebook import tqdm as notebook_tqdm\n"
     ]
    }
   ],
   "source": [
    "import pandas as pd\n",
    "import torch\n",
    "from torch.utils.data import Dataset, DataLoader, random_split\n",
    "from transformers import GPT2Tokenizer, GPT2LMHeadModel, AdamW\n",
    "import random\n",
    "from transformers import AutoTokenizer, AutoModelForCausalLM\n",
    "\n",
    "import warnings\n",
    "warnings.filterwarnings(\"ignore\")"
   ]
  },
  {
   "cell_type": "code",
   "execution_count": 2,
   "id": "77686dd0",
   "metadata": {},
   "outputs": [],
   "source": [
    "class MiloDataset(Dataset):\n",
    "    def __init__(self, inputs, responses, tokenizer, max_len=128):\n",
    "        self.inputs = inputs\n",
    "        self.responses = responses\n",
    "        self.tokenizer = tokenizer\n",
    "        self.max_len = max_len\n",
    "\n",
    "    def __len__(self):\n",
    "        return len(self.inputs)\n",
    "\n",
    "    def __getitem__(self, idx):\n",
    "        # concat input and response into one string for better generation\n",
    "        input_text = self.inputs[idx]\n",
    "        response_text = self.responses[idx]\n",
    "\n",
    "        prompt = f\"User: {input_text} Dog: {response_text}\"\n",
    "\n",
    "        encoding = self.tokenizer(\n",
    "            prompt,\n",
    "            truncation=True,\n",
    "            padding='max_length',\n",
    "            max_length=self.max_len,\n",
    "            return_tensors='pt'\n",
    "        )\n",
    "\n",
    "        input_ids = encoding['input_ids'].squeeze(0)\n",
    "        attention_mask = encoding['attention_mask'].squeeze(0)\n",
    "\n",
    "        return {\n",
    "            'input_ids': input_ids,\n",
    "            'attention_mask': attention_mask,\n",
    "            'labels': input_ids\n",
    "        }"
   ]
  },
  {
   "cell_type": "code",
   "execution_count": 3,
   "id": "517cb071",
   "metadata": {},
   "outputs": [],
   "source": [
    "df = pd.read_csv(\"milo.csv\")\n",
    "df = df.sample(frac=1).reset_index(drop=True)\n",
    "\n",
    "tokenizer = GPT2Tokenizer.from_pretrained('gpt2')\n",
    "tokenizer.pad_token = tokenizer.eos_token # gpt2 doesn't have pad token, so use eos\n",
    "\n",
    "dataset = MiloDataset(df['input'].tolist(), df['response'].tolist(), tokenizer)\n",
    "\n",
    "train_size = int(0.8 * len(dataset))\n",
    "val_size = int(0.1 * len(dataset))\n",
    "test_size = len(dataset) - train_size - val_size\n",
    "\n",
    "train_dataset, val_dataset, test_dataset = random_split(dataset, [train_size, val_size, test_size])\n",
    "\n",
    "train_loader = DataLoader(train_dataset, batch_size=4, shuffle=True)\n",
    "val_loader = DataLoader(val_dataset, batch_size=4)\n",
    "test_loader = DataLoader(test_dataset, batch_size=4)"
   ]
  },
  {
   "cell_type": "code",
   "execution_count": 4,
   "id": "d40acea0",
   "metadata": {},
   "outputs": [],
   "source": [
    "model = GPT2LMHeadModel.from_pretrained('gpt2')\n",
    "model.resize_token_embeddings(len(tokenizer)) # important if padding token was added\n",
    "\n",
    "device = torch.device('cuda' if torch.cuda.is_available() else 'cpu')\n",
    "model = model.to(device)\n",
    "\n",
    "optimizer = AdamW(model.parameters(), lr=5e-5)"
   ]
  },
  {
   "cell_type": "code",
   "execution_count": null,
   "id": "5d43a269",
   "metadata": {},
   "outputs": [],
   "source": [
    "def train_epoch(model, dataloader, optimizer, device):\n",
    "    model.train() # training mode\n",
    "    total_loss = 0\n",
    "\n",
    "    for batch in dataloader:\n",
    "        input_ids = batch['input_ids'].to(device)\n",
    "        attention_mask = batch['attention_mask'].to(device)\n",
    "        labels = batch['labels'].to(device)\n",
    "\n",
    "        outputs = model(input_ids, attention_mask=attention_mask, labels=labels)\n",
    "        loss = outputs.loss\n",
    "\n",
    "        loss.backward()       # compute gradients\n",
    "        optimizer.step()      # update parameters\n",
    "        optimizer.zero_grad() # reset gradients\n",
    "\n",
    "        total_loss += loss.item()\n",
    "\n",
    "    return total_loss / len(dataloader)\n",
    "\n",
    "def eval_epoch(model, dataloader, device):\n",
    "    model.eval()\n",
    "    total_loss = 0\n",
    "\n",
    "    with torch.no_grad():\n",
    "        for batch in dataloader:\n",
    "            input_ids = batch['input_ids'].to(device)\n",
    "            attention_mask = batch['attention_mask'].to(device)\n",
    "            labels = batch['labels'].to(device)\n",
    "\n",
    "            outputs = model(input_ids, attention_mask=attention_mask, labels=labels)\n",
    "            loss = outputs.loss\n",
    "\n",
    "            total_loss += loss.item()\n",
    "\n",
    "    return total_loss / len(dataloader)"
   ]
  },
  {
   "cell_type": "code",
   "execution_count": null,
   "id": "43e9ddad",
   "metadata": {},
   "outputs": [
    {
     "name": "stderr",
     "output_type": "stream",
     "text": [
      "`loss_type=None` was set in the config but it is unrecognised.Using the default loss: `ForCausalLMLoss`.\n"
     ]
    },
    {
     "name": "stdout",
     "output_type": "stream",
     "text": [
      "Epoch 1/7 | Train Loss: 0.1063 | Val Loss: 0.0704\n",
      "Epoch 2/7 | Train Loss: 0.0700 | Val Loss: 0.0680\n",
      "Epoch 3/7 | Train Loss: 0.0687 | Val Loss: 0.0676\n",
      "Epoch 4/7 | Train Loss: 0.0680 | Val Loss: 0.0667\n",
      "Epoch 5/7 | Train Loss: 0.0675 | Val Loss: 0.0672\n",
      "Epoch 6/7 | Train Loss: 0.0672 | Val Loss: 0.0668\n",
      "Epoch 7/7 | Train Loss: 0.0669 | Val Loss: 0.0670\n",
      "Test Loss: 0.0671\n"
     ]
    }
   ],
   "source": [
    "num_epochs = 7\n",
    "\n",
    "for epoch in range(num_epochs):\n",
    "    train_loss = train_epoch(model, train_loader, optimizer, device)\n",
    "    val_loss = eval_epoch(model, val_loader, device)\n",
    "    print(f\"Epoch {epoch+1}/{num_epochs} | Train Loss: {train_loss:.4f} | Val Loss: {val_loss:.4f}\")\n",
    "\n",
    "test_loss = eval_epoch(model, test_loader, device)\n",
    "print(f\"Test Loss: {test_loss:.4f}\")\n",
    "\n",
    "# takes about 190 minutes for 7 epochs"
   ]
  },
  {
   "cell_type": "code",
   "execution_count": 7,
   "id": "67304f9d",
   "metadata": {},
   "outputs": [
    {
     "data": {
      "text/plain": [
       "('generative_model/tokenizer_config.json',\n",
       " 'generative_model/special_tokens_map.json',\n",
       " 'generative_model/vocab.json',\n",
       " 'generative_model/merges.txt',\n",
       " 'generative_model/added_tokens.json')"
      ]
     },
     "execution_count": 7,
     "metadata": {},
     "output_type": "execute_result"
    }
   ],
   "source": [
    "model.save_pretrained(\"generative_model\")\n",
    "tokenizer.save_pretrained(\"generative_model\")"
   ]
  },
  {
   "cell_type": "code",
   "execution_count": 8,
   "id": "09107684",
   "metadata": {},
   "outputs": [
    {
     "name": "stdout",
     "output_type": "stream",
     "text": [
      "Milo says: hump\n"
     ]
    }
   ],
   "source": [
    "def generate_response(user_input, model, tokenizer, device, max_length=50):\n",
    "    # EX: User: are you hungry? Dog: yes! i could eat a whole squirrel!\n",
    "    \n",
    "    model.eval() # turn off any training behaviors\n",
    "\n",
    "    # give the model a prompt to 'fill in' (i.e. the same structure it trained on)\n",
    "    prompt = f\"User: {user_input} Dog:\"\n",
    "    inputs = tokenizer(prompt, return_tensors=\"pt\").to(device)\n",
    "\n",
    "    # generate a response\n",
    "    with torch.no_grad():\n",
    "        outputs = model.generate(\n",
    "            **inputs,\n",
    "            max_length=max_length,\n",
    "            num_return_sequences=1,\n",
    "            pad_token_id=tokenizer.eos_token_id,\n",
    "            no_repeat_ngram_size=2,\n",
    "            early_stopping=True\n",
    "        )\n",
    "\n",
    "    # decode the generated response\n",
    "    generated_text = tokenizer.decode(outputs[0], skip_special_tokens=True)\n",
    "\n",
    "    # extract only the dog's part\n",
    "    if \"Dog:\" in generated_text:\n",
    "        return generated_text.split(\"Dog:\")[-1].strip()\n",
    "    else:\n",
    "        return generated_text\n",
    "\n",
    "example_input = \"who's shelby?\"\n",
    "response = generate_response(example_input, model, tokenizer, device)\n",
    "print(\"Milo says:\", response)\n"
   ]
  },
  {
   "cell_type": "markdown",
   "id": "40f4af05",
   "metadata": {},
   "source": [
    "## For additional training"
   ]
  },
  {
   "cell_type": "code",
   "execution_count": 9,
   "id": "8b63bc8d",
   "metadata": {},
   "outputs": [],
   "source": [
    "df = pd.read_csv(\"milo.csv\")\n",
    "df = df.sample(frac=1).reset_index(drop=True)\n",
    "\n",
    "dataset = MiloDataset(df['input'].tolist(), df['response'].tolist(), tokenizer)\n",
    "\n",
    "train_size = int(0.8 * len(dataset))\n",
    "val_size = int(0.1 * len(dataset))\n",
    "test_size = len(dataset) - train_size - val_size\n",
    "\n",
    "train_dataset, val_dataset, test_dataset = random_split(dataset, [train_size, val_size, test_size])\n",
    "\n",
    "train_loader = DataLoader(train_dataset, batch_size=4, shuffle=True)\n",
    "val_loader = DataLoader(val_dataset, batch_size=4)\n",
    "test_loader = DataLoader(test_dataset, batch_size=4)"
   ]
  },
  {
   "cell_type": "code",
   "execution_count": null,
   "id": "bd34ff44",
   "metadata": {},
   "outputs": [],
   "source": [
    "tokenizer = AutoTokenizer.from_pretrained(\"generative_model\")\n",
    "model = AutoModelForCausalLM.from_pretrained(\"generative_model\")\n",
    "\n",
    "device = torch.device(\"cuda\" if torch.cuda.is_available() else \"cpu\")\n",
    "model = model.to(device)\n",
    "optimizer = AdamW(model.parameters(), lr=2e-5)\n",
    "\n",
    "num_additional_epochs = 5\n",
    "\n",
    "for epoch in range(num_additional_epochs):\n",
    "    train_loss = train_epoch(model, train_loader, optimizer, device)\n",
    "    val_loss = eval_epoch(model, val_loader, device)\n",
    "    print(f\"[CONT] Epoch {epoch+1}/{num_additional_epochs} | Train Loss: {train_loss:.4f} | Val Loss: {val_loss:.4f}\")\n",
    "\n",
    "test_loss = eval_epoch(model, test_loader, device)\n",
    "print(f\"Final Test Loss: {test_loss:.4f}\")"
   ]
  }
 ],
 "metadata": {
  "kernelspec": {
   "display_name": "cs342",
   "language": "python",
   "name": "python3"
  },
  "language_info": {
   "codemirror_mode": {
    "name": "ipython",
    "version": 3
   },
   "file_extension": ".py",
   "mimetype": "text/x-python",
   "name": "python",
   "nbconvert_exporter": "python",
   "pygments_lexer": "ipython3",
   "version": "3.9.18"
  }
 },
 "nbformat": 4,
 "nbformat_minor": 5
}
